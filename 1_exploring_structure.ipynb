{
 "cells": [
  {
   "cell_type": "markdown",
   "metadata": {
    "slideshow": {
     "slide_type": "skip"
    }
   },
   "source": [
    "# Exploring structure\n",
    "\n",
    "Make sure you execute each code block in turn.\n",
    "\n",
    "We'll use the `ipythonblocks` library to make things a bit more colourful."
   ]
  },
  {
   "cell_type": "code",
   "execution_count": null,
   "metadata": {
    "hide_input": false,
    "slideshow": {
     "slide_type": "skip"
    }
   },
   "outputs": [],
   "source": [
    "from ipythonblocks import BlockGrid\n",
    "from colour import Color"
   ]
  },
  {
   "cell_type": "markdown",
   "metadata": {
    "slideshow": {
     "slide_type": "skip"
    }
   },
   "source": [
    "This function creates a list of colours starting with white for zero, black for one, and then a gradient from red for two up to blue for n"
   ]
  },
  {
   "cell_type": "code",
   "execution_count": null,
   "metadata": {
    "slideshow": {
     "slide_type": "skip"
    }
   },
   "outputs": [],
   "source": [
    "def generate_colormap(n):\n",
    "    red = Color(\"red\")\n",
    "    blue = Color(\"blue\")\n",
    "    white = Color(\"white\")\n",
    "    black = Color(\"black\")\n",
    "    return [(c.red*255,c.green*255,c.blue*255) \n",
    "         for c in [white]+[black]+list(red.range_to(blue,n-2))]"
   ]
  },
  {
   "cell_type": "markdown",
   "metadata": {},
   "source": [
    "Test it out. Try varying `n`"
   ]
  },
  {
   "cell_type": "code",
   "execution_count": null,
   "metadata": {},
   "outputs": [],
   "source": [
    "n = 8\n",
    "colormap = generate_colormap(n)\n",
    "grid = BlockGrid(n,1)\n",
    "for block in grid:\n",
    "    block.rgb = colormap[block.col]\n",
    "grid"
   ]
  },
  {
   "cell_type": "markdown",
   "metadata": {
    "slideshow": {
     "slide_type": "slide"
    }
   },
   "source": [
    "Now we can create a grid showing addition modulo n.\n",
    "\n",
    "Vary `n` and see what happens."
   ]
  },
  {
   "cell_type": "code",
   "execution_count": null,
   "metadata": {
    "hide_input": false,
    "slideshow": {
     "slide_type": "-"
    }
   },
   "outputs": [],
   "source": [
    "n = 7\n",
    "def action(a, b):\n",
    "    return (a + b)%n"
   ]
  },
  {
   "cell_type": "code",
   "execution_count": null,
   "metadata": {
    "hide_input": false,
    "slideshow": {
     "slide_type": "-"
    }
   },
   "outputs": [],
   "source": [
    "colormap = generate_colormap(n)\n",
    "# You might need to make the blocks smaller\n",
    "size_of_blocks = 20\n",
    "\n",
    "grid = BlockGrid(n,n,(255,255,255),size_of_blocks)\n",
    "# For every block in the grid\n",
    "for block in grid:\n",
    "    # Do the action to the row number and column number\n",
    "    block.rgb = colormap[action(block.row, block.col)]\n",
    "\n",
    "print(\"Addition modulo {}\".format(n))\n",
    "grid"
   ]
  },
  {
   "cell_type": "markdown",
   "metadata": {
    "slideshow": {
     "slide_type": "slide"
    }
   },
   "source": [
    "Create a grid showing multiplication modulo n.\n",
    "\n",
    "Vary `n` and see what happens. "
   ]
  },
  {
   "cell_type": "code",
   "execution_count": null,
   "metadata": {
    "hide_input": false,
    "slideshow": {
     "slide_type": "-"
    }
   },
   "outputs": [],
   "source": [
    "n = 7\n",
    "def action(a, b):\n",
    "    return (a * b)%n"
   ]
  },
  {
   "cell_type": "code",
   "execution_count": null,
   "metadata": {
    "hide_input": false,
    "scrolled": true,
    "slideshow": {
     "slide_type": "-"
    }
   },
   "outputs": [],
   "source": [
    "colormap = generate_colormap(n)\n",
    "size_of_blocks = 20\n",
    "\n",
    "grid = BlockGrid(n,n,(255,255,255),size_of_blocks)\n",
    "for block in grid:\n",
    "    block.rgb = colormap[action(block.row, block.col)]\n",
    "    \n",
    "print(\"Multiplication modulo {}\".format(n))\n",
    "grid"
   ]
  },
  {
   "cell_type": "markdown",
   "metadata": {},
   "source": [
    "Do you notice anything?\n",
    "\n",
    "Things to think about\n",
    "* what do black squares mean for multiplication?\n",
    "* what about white squares?\n",
    "* for which `n` do you see a group structure?\n",
    "\n",
    "Remember you can make notes right here in the notebook."
   ]
  }
 ],
 "metadata": {
  "celltoolbar": "Slideshow",
  "kernelspec": {
   "display_name": "Python 3",
   "language": "python",
   "name": "python3"
  },
  "language_info": {
   "codemirror_mode": {
    "name": "ipython",
    "version": 3
   },
   "file_extension": ".py",
   "mimetype": "text/x-python",
   "name": "python",
   "nbconvert_exporter": "python",
   "pygments_lexer": "ipython3",
   "version": "3.6.4+"
  }
 },
 "nbformat": 4,
 "nbformat_minor": 2
}
