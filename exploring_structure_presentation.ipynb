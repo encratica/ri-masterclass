{
 "cells": [
  {
   "cell_type": "markdown",
   "metadata": {
    "slideshow": {
     "slide_type": "skip"
    }
   },
   "source": [
    "The necessary imports"
   ]
  },
  {
   "cell_type": "code",
   "execution_count": null,
   "metadata": {
    "hide_input": false,
    "slideshow": {
     "slide_type": "skip"
    }
   },
   "outputs": [],
   "source": [
    "from ipythonblocks import BlockGrid\n",
    "from colour import Color"
   ]
  },
  {
   "cell_type": "markdown",
   "metadata": {
    "slideshow": {
     "slide_type": "skip"
    }
   },
   "source": [
    "A function to generate a list of colours starting with white for zero, black for one, and then a gradient from red for two up to blue for n"
   ]
  },
  {
   "cell_type": "code",
   "execution_count": null,
   "metadata": {
    "slideshow": {
     "slide_type": "skip"
    }
   },
   "outputs": [],
   "source": [
    "def generate_colormap(n):\n",
    "    red = Color(\"red\")\n",
    "    blue = Color(\"blue\")\n",
    "    white = Color(\"white\")\n",
    "    black = Color(\"black\")\n",
    "    return [(c.red*255,c.green*255,c.blue*255) \n",
    "         for c in [white]+[black]+list(red.range_to(blue,n-2))]"
   ]
  },
  {
   "cell_type": "markdown",
   "metadata": {
    "slideshow": {
     "slide_type": "slide"
    }
   },
   "source": [
    "# Visualising groups"
   ]
  },
  {
   "cell_type": "code",
   "execution_count": null,
   "metadata": {
    "hide_input": false,
    "slideshow": {
     "slide_type": "slide"
    }
   },
   "outputs": [],
   "source": [
    "n = 7\n",
    "def action(a, b):\n",
    "    return (a + b)%n"
   ]
  },
  {
   "cell_type": "code",
   "execution_count": null,
   "metadata": {
    "hide_input": true,
    "slideshow": {
     "slide_type": "-"
    }
   },
   "outputs": [],
   "source": [
    "colormap = generate_colormap(n)\n",
    "size_of_blocks = 20\n",
    "\n",
    "grid = BlockGrid(n,n,(255,255,255),size_of_blocks)\n",
    "for block in grid:\n",
    "    block.rgb = colormap[action(block.row, block.col)]\n",
    "\n",
    "print(\"Addition modulo {}\".format(n))\n",
    "grid.show_image()"
   ]
  },
  {
   "cell_type": "code",
   "execution_count": null,
   "metadata": {
    "hide_input": false,
    "slideshow": {
     "slide_type": "slide"
    }
   },
   "outputs": [],
   "source": [
    "n = 7\n",
    "def action(a, b):\n",
    "    return (a * b)%n"
   ]
  },
  {
   "cell_type": "code",
   "execution_count": null,
   "metadata": {
    "hide_input": true,
    "scrolled": false,
    "slideshow": {
     "slide_type": "-"
    }
   },
   "outputs": [],
   "source": [
    "colormap = generate_colormap(n)\n",
    "size_of_blocks = 20\n",
    "\n",
    "grid = BlockGrid(n,n,(255,255,255),size_of_blocks)\n",
    "for block in grid:\n",
    "    block.rgb = colormap[action(block.row, block.col)]\n",
    "    \n",
    "print(\"Multiplication modulo {}\".format(n))\n",
    "grid.show_image()"
   ]
  },
  {
   "cell_type": "markdown",
   "metadata": {
    "hide_input": false,
    "slideshow": {
     "slide_type": "slide"
    }
   },
   "source": [
    "# Addition mod n\n",
    "\n",
    "What do your addition grids tell you about modular addition?\n",
    "\n",
    "What do the white squares represent?"
   ]
  },
  {
   "cell_type": "code",
   "execution_count": null,
   "metadata": {
    "hide_input": false,
    "slideshow": {
     "slide_type": "-"
    }
   },
   "outputs": [],
   "source": [
    "n = 16\n",
    "def action(a, b):\n",
    "    return (a + b)%n"
   ]
  },
  {
   "cell_type": "code",
   "execution_count": null,
   "metadata": {
    "hide_input": true,
    "scrolled": false,
    "slideshow": {
     "slide_type": "-"
    }
   },
   "outputs": [],
   "source": [
    "colormap = generate_colormap(n)\n",
    "size_of_blocks = 10\n",
    "\n",
    "grid = BlockGrid(n,n,(255,255,255),size_of_blocks)\n",
    "for block in grid:\n",
    "    block.rgb = colormap[action(block.row, block.col)]\n",
    "    \n",
    "print(\"Addition modulo {}\".format(n))\n",
    "grid.show_image()"
   ]
  },
  {
   "cell_type": "markdown",
   "metadata": {
    "slideshow": {
     "slide_type": "subslide"
    }
   },
   "source": [
    "Under addition, the white squares represent pairs of numbers that add to zero. And zero is the *identity* for addition.\n",
    "\n",
    "$$13+3=0\\mod16$$\n",
    "\n",
    "In other words, $3$ is the *inverse* of $13$ under addition mod 16."
   ]
  },
  {
   "cell_type": "markdown",
   "metadata": {
    "slideshow": {
     "slide_type": "subslide"
    }
   },
   "source": [
    "So the numbers $\\{0,1,2,3,\\ldots,15\\}$ under addition mod $16$ are *closed*, have an *identity* $0$, and have *inverses*. This is a group!\n",
    "\n",
    "Any other examples?"
   ]
  },
  {
   "cell_type": "markdown",
   "metadata": {
    "slideshow": {
     "slide_type": "subslide"
    }
   },
   "source": [
    "This is true for any modulus $n$.\n",
    "\n",
    "The numbers $\\{0,1,\\ldots,n-1\\}$ are a group under addition modulo $n$."
   ]
  },
  {
   "cell_type": "markdown",
   "metadata": {
    "slideshow": {
     "slide_type": "slide"
    }
   },
   "source": [
    "# Multiplication mod n\n",
    "\n",
    "Can we find a group under multiplication mod n?\n",
    "\n",
    "This situation is a bit more complicated. And interesting.\n",
    "\n",
    "What have you noticed?"
   ]
  },
  {
   "cell_type": "markdown",
   "metadata": {
    "slideshow": {
     "slide_type": "subslide"
    }
   },
   "source": [
    "Can you have $0$ in a multiplication group?"
   ]
  },
  {
   "cell_type": "markdown",
   "metadata": {
    "slideshow": {
     "slide_type": "subslide"
    }
   },
   "source": [
    "No, $0$ doesn't have an inverse under multiplication.\n",
    "\n",
    "Suppose $Z$ is the inverse of $0$, then $$Z\\times0=1\\mod n$$ because $1$ is the identity.\n",
    "\n",
    "But $$Z\\times0=0$$\n",
    "\n",
    "So $$0\\stackrel{?}{=}1$$"
   ]
  },
  {
   "cell_type": "markdown",
   "metadata": {
    "slideshow": {
     "slide_type": "subslide"
    }
   },
   "source": [
    "If we are going to find a group, it will just be the numbers $\\{1,2,\\ldots,n-1\\}$, ignoring the white squares along the top and the left of the grid.\n",
    "\n",
    "Do they form a group?"
   ]
  },
  {
   "cell_type": "code",
   "execution_count": null,
   "metadata": {
    "hide_input": false,
    "slideshow": {
     "slide_type": "subslide"
    }
   },
   "outputs": [],
   "source": [
    "n=16\n",
    "def action(a, b):\n",
    "    return (a * b)%n"
   ]
  },
  {
   "cell_type": "code",
   "execution_count": null,
   "metadata": {
    "hide_input": true,
    "scrolled": false,
    "slideshow": {
     "slide_type": "subslide"
    }
   },
   "outputs": [],
   "source": [
    "colormap=generate_colormap(n)\n",
    "\n",
    "grid = BlockGrid(n,n,(255,255,255),10)\n",
    "for block in grid:\n",
    "    block.rgb = colormap[action(block.row, block.col)]\n",
    "    \n",
    "print(\"Multiplication modulo {}\".format(n))\n",
    "grid.show_image()"
   ]
  },
  {
   "cell_type": "markdown",
   "metadata": {
    "slideshow": {
     "slide_type": "subslide"
    }
   },
   "source": [
    "$\\{1,2,\\ldots,15\\}$ **do not** form a group under multiplication mod 16.\n",
    "\n",
    "You can tell because\n",
    "\n",
    "* There isn't a black square in every row or column. Some numbers don't have inverses.\n",
    "* There are white squares, zeroes. But we excluded zero, so it's not closed."
   ]
  },
  {
   "cell_type": "markdown",
   "metadata": {
    "slideshow": {
     "slide_type": "subslide"
    }
   },
   "source": [
    "Can you find any numbers which do give a group?"
   ]
  },
  {
   "cell_type": "code",
   "execution_count": null,
   "metadata": {
    "hide_input": false,
    "slideshow": {
     "slide_type": "subslide"
    }
   },
   "outputs": [],
   "source": [
    "n=17\n",
    "def action(a, b):\n",
    "    return (a * b)%n"
   ]
  },
  {
   "cell_type": "code",
   "execution_count": null,
   "metadata": {
    "hide_input": true,
    "scrolled": false,
    "slideshow": {
     "slide_type": "subslide"
    }
   },
   "outputs": [],
   "source": [
    "colormap=generate_colormap(n)\n",
    "\n",
    "grid = BlockGrid(n,n,(255,255,255),10)\n",
    "for block in grid:\n",
    "    block.rgb = colormap[action(block.row, block.col)]\n",
    "    \n",
    "print(\"Multiplication modulo {}\".format(n))\n",
    "grid.show_image()"
   ]
  },
  {
   "cell_type": "markdown",
   "metadata": {
    "slideshow": {
     "slide_type": "subslide"
    }
   },
   "source": [
    "$\\{1,2,\\ldots,16\\}$ **do** form a group under multiplication mod 17.\n",
    "\n",
    "You can tell because\n",
    "\n",
    "* There is a black square in every row or column. All numbers have inverses.\n",
    "* There are no white squares."
   ]
  },
  {
   "cell_type": "markdown",
   "metadata": {
    "slideshow": {
     "slide_type": "subslide"
    }
   },
   "source": [
    "Do you notice anything about the moduli that do give a group, and the ones that don't?"
   ]
  },
  {
   "cell_type": "markdown",
   "metadata": {
    "slideshow": {
     "slide_type": "subslide"
    }
   },
   "source": [
    "## Theorem\n",
    "\n",
    "The numbers $\\{1,2,\\ldots,p-1\\}$ form a group under multiplication mod $p$ if and only if $p$ is prime."
   ]
  },
  {
   "cell_type": "markdown",
   "metadata": {
    "slideshow": {
     "slide_type": "subslide"
    }
   },
   "source": [
    "We won't prove this theorem fully today, but think about those white squares.\n",
    "\n",
    "Make a multiplication grid mod 15. What's the connection between 15, and the pairs that multiply to 0?"
   ]
  },
  {
   "cell_type": "code",
   "execution_count": null,
   "metadata": {
    "hide_input": false,
    "slideshow": {
     "slide_type": "subslide"
    }
   },
   "outputs": [],
   "source": [
    "n=15\n",
    "def action(a, b):\n",
    "    return (a * b)%n"
   ]
  },
  {
   "cell_type": "code",
   "execution_count": null,
   "metadata": {
    "hide_input": true,
    "scrolled": false,
    "slideshow": {
     "slide_type": "subslide"
    }
   },
   "outputs": [],
   "source": [
    "colormap=generate_colormap(n)\n",
    "\n",
    "grid = BlockGrid(n,n,(255,255,255),10)\n",
    "for block in grid:\n",
    "    block.rgb = colormap[action(block.row, block.col)]\n",
    "    \n",
    "print(\"Multiplication modulo {}\".format(n))\n",
    "grid.show_image()"
   ]
  },
  {
   "cell_type": "markdown",
   "metadata": {
    "slideshow": {
     "slide_type": "subslide"
    }
   },
   "source": [
    "For example,\n",
    "$$10\\times6=0\\mod 15$$\n",
    "\n",
    "Because $$10\\times6=2\\times5\\times2\\times3=4\\times15=0\\mod 15$$\n",
    "\n",
    "The factors of $15$ were hidden in the $10$ and $6$"
   ]
  },
  {
   "cell_type": "markdown",
   "metadata": {
    "slideshow": {
     "slide_type": "fragment"
    }
   },
   "source": [
    "That couldn't happen with a prime like $17$."
   ]
  },
  {
   "cell_type": "markdown",
   "metadata": {
    "hide_input": false,
    "slideshow": {
     "slide_type": "skip"
    }
   },
   "source": [
    "$\\require{'cancel'}$"
   ]
  },
  {
   "cell_type": "markdown",
   "metadata": {
    "slideshow": {
     "slide_type": "slide"
    }
   },
   "source": [
    "## The problem with zero divisors\n",
    "\n",
    "Usually if both sides of an equation have a common factor, you can divide both sides by it\n",
    "\n",
    "$$\\begin{aligned}\n",
    "5x&=15\\\\\n",
    "\\cancel{5}x &= \\cancel{5}\\times3\\\\\n",
    "x&=3\n",
    "\\end{aligned}$$"
   ]
  },
  {
   "cell_type": "markdown",
   "metadata": {
    "slideshow": {
     "slide_type": "subslide"
    }
   },
   "source": [
    "Products that equal zero cause problems with this.\n",
    "\n",
    "For example, $3$ is a zero divisor mod $6$ and\n",
    "\n",
    "$$\n",
    "\\begin{aligned}\n",
    "15&=3&&\\mod6\\\\\n",
    "3\\times5&=3\\times1 &&\\mod 6\\\\\n",
    "\\text{But }5&\\neq 1 &&\\mod 6\n",
    "\\end{aligned}\n",
    "$$"
   ]
  },
  {
   "cell_type": "markdown",
   "metadata": {
    "slideshow": {
     "slide_type": "fragment"
    }
   },
   "source": [
    "Cancelling doesn't work mod $6$. But it does work mod $7$."
   ]
  },
  {
   "cell_type": "markdown",
   "metadata": {
    "slideshow": {
     "slide_type": "subslide"
    }
   },
   "source": [
    "This is because **zero divisors don't have inverses**.\n",
    "\n",
    "There are no white squares on the same row or column as a black square."
   ]
  },
  {
   "cell_type": "markdown",
   "metadata": {
    "slideshow": {
     "slide_type": "subslide"
    }
   },
   "source": [
    "**Zero divisors don't have inverses**\n",
    "\n",
    "### Proof\n",
    "\n",
    "Let $a$ and $b$ be zero divisors mod $n$.\n",
    "\n",
    "In other words, neither $a$ nor $b$ is zero, but $ab=0\\mod n$."
   ]
  },
  {
   "cell_type": "markdown",
   "metadata": {
    "slideshow": {
     "slide_type": "subslide"
    }
   },
   "source": [
    "Suppose $a$ has an inverse $A$, so that $A\\times a=1$\n",
    "\n",
    "Then if\n",
    "\n",
    "$$\\begin{aligned}\n",
    "ab &= 0&&\\mod n\\\\\n",
    "Aab &= A\\times0&&\\mod n\\\\\n",
    "b &=0&&\\mod n\n",
    "\\end{aligned}$$"
   ]
  },
  {
   "cell_type": "markdown",
   "metadata": {
    "slideshow": {
     "slide_type": "subslide"
    }
   },
   "source": [
    "But we said $b$ wasn't zero, so this is a contradiction. \n",
    "\n",
    "If you have an inverse, you're not a zero divisor. If you're a zero divisor, you don't have an inverse."
   ]
  },
  {
   "cell_type": "markdown",
   "metadata": {
    "slideshow": {
     "slide_type": "subslide"
    }
   },
   "source": [
    "If you're multiplying modulo a prime number\n",
    "\n",
    "* you don't get zero divisors\n",
    "* so every number has an inverse\n",
    "* and that means you've got a group"
   ]
  }
 ],
 "metadata": {
  "celltoolbar": "Slideshow",
  "kernelspec": {
   "display_name": "Python 3",
   "language": "python",
   "name": "python3"
  },
  "language_info": {
   "codemirror_mode": {
    "name": "ipython",
    "version": 3
   },
   "file_extension": ".py",
   "mimetype": "text/x-python",
   "name": "python",
   "nbconvert_exporter": "python",
   "pygments_lexer": "ipython3",
   "version": "3.5.2"
  }
 },
 "nbformat": 4,
 "nbformat_minor": 2
}
