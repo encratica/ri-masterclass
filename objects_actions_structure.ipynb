{
 "cells": [
  {
   "cell_type": "markdown",
   "metadata": {
    "slideshow": {
     "slide_type": "slide"
    }
   },
   "source": [
    "# Group theory - a visual introduction\n",
    "\n",
    "## Mathematics & Computer Science\n",
    "### Ian & Neelu @Ada\n",
    "\n",
    "* **Our toolkit** Python in a jupyter notebook\n",
    "* **Objects, actions, and structure** What maths is really about\n",
    "* **Using Python to visualise structure** How computer science helps\n",
    "* **What is a group structure** and why does it matter?\n",
    "* **Looking for groups** computationally"
   ]
  },
  {
   "cell_type": "markdown",
   "metadata": {
    "slideshow": {
     "slide_type": "subslide"
    }
   },
   "source": [
    "## Using the jupyter notebook\n",
    "\n",
    "Open `0_welcome.ipynb` and follow the instructions"
   ]
  },
  {
   "cell_type": "markdown",
   "metadata": {
    "slideshow": {
     "slide_type": "slide"
    }
   },
   "source": [
    "# Objects, actions, and structure\n",
    "\n",
    "* Find some mathematical objects, or invent them\n",
    "* Combine them somehow\n",
    "* Look for patterns"
   ]
  },
  {
   "cell_type": "markdown",
   "metadata": {
    "slideshow": {
     "slide_type": "subslide"
    }
   },
   "source": [
    "# Objects"
   ]
  },
  {
   "cell_type": "markdown",
   "metadata": {
    "slideshow": {
     "slide_type": "fragment"
    }
   },
   "source": [
    "* Numbers, obviously\n",
    "* Different kinds of numbers! Integers, rational numbers, real numbers, imaginary numbers, infinite numbers ...\n",
    "* Symmetries. Transformations\n",
    "* Functions\n",
    "* Vectors. Matrices"
   ]
  },
  {
   "cell_type": "markdown",
   "metadata": {
    "slideshow": {
     "slide_type": "subslide"
    }
   },
   "source": [
    "# Actions"
   ]
  },
  {
   "cell_type": "markdown",
   "metadata": {
    "slideshow": {
     "slide_type": "fragment"
    }
   },
   "source": [
    "* Take two numbers and do the usual $+$ $-$ $\\times$ $\\div$\n",
    "* Take two transformations and do one followed by the other\n",
    "* Take two functions and find the composite function\n",
    "* Add two vectors"
   ]
  },
  {
   "cell_type": "markdown",
   "metadata": {
    "slideshow": {
     "slide_type": "subslide"
    }
   },
   "source": [
    "# Structure"
   ]
  },
  {
   "cell_type": "markdown",
   "metadata": {
    "slideshow": {
     "slide_type": "fragment"
    }
   },
   "source": [
    "### Example\n",
    "\n",
    "* **Objects** The numbers 0, 1, 2\n",
    "* **Action** Addition *modulo* 3\n",
    "\n",
    "> Remember *modulo* 3 means \"find the remainder when you divide by 3\"\n",
    ">\n",
    "> So\n",
    ">$$4=1\\mod 3$$\n",
    "> And\n",
    ">$$15=0\\mod 3$$\n",
    ">\n",
    "> In Python it's written %3"
   ]
  },
  {
   "cell_type": "markdown",
   "metadata": {
    "slideshow": {
     "slide_type": "subslide"
    }
   },
   "source": [
    "$\\begin{array}{c|ccc}\n",
    "+&0&1&2\\\\\n",
    "\\hline\n",
    "0&\\\\\n",
    "1&\\\\\n",
    "2&\\\\\n",
    "\\end{array}$"
   ]
  },
  {
   "cell_type": "markdown",
   "metadata": {
    "slideshow": {
     "slide_type": "subslide"
    }
   },
   "source": [
    "### Example\n",
    "\n",
    "* **Objects** Rotations of an equilateral triangle\n",
    "* **Action** Composition (one followed by another)"
   ]
  },
  {
   "cell_type": "markdown",
   "metadata": {
    "slideshow": {
     "slide_type": "fragment"
    }
   },
   "source": [
    "$\\begin{array}{l|lll}\n",
    "\\text{Followed by}&\\text{Rot}\\,0^\\circ&\\text{Rot}\\,120^\\circ&\\text{Rot}\\,240^\\circ\\\\\n",
    "\\hline\n",
    "\\text{Rot}\\,0^\\circ&\\\\\n",
    "\\text{Rot}\\,120^\\circ&\\\\\n",
    "\\text{Rot}\\,240^\\circ&\\\\\n",
    "\\end{array}$"
   ]
  },
  {
   "cell_type": "markdown",
   "metadata": {
    "slideshow": {
     "slide_type": "subslide"
    }
   },
   "source": [
    "$\\begin{array}{c|ccc}\n",
    "+&0&1&2\\\\\n",
    "\\hline\n",
    "0&0&1&2\\\\\n",
    "1&1&2&0\\\\\n",
    "2&2&0&1\\\\\n",
    "\\end{array}\\;\\;\\;\\;\\begin{array}{l|lll}\n",
    "\\text{Followed by}&\\text{Rot}\\,0^\\circ&\\text{Rot}\\,120^\\circ&\\text{Rot}\\,240^\\circ\\\\\n",
    "\\hline\n",
    "\\text{Rot}\\,0^\\circ&\\text{Rot}\\,0^\\circ&\\text{Rot}\\,120^\\circ&\\text{Rot}\\,240^\\circ\\\\\n",
    "\\text{Rot}\\,120^\\circ&\\text{Rot}\\,120^\\circ&\\text{Rot}\\,240^\\circ&\\text{Rot}\\,0^\\circ\\\\\n",
    "\\text{Rot}\\,240^\\circ&\\text{Rot}\\,240^\\circ&\\text{Rot}\\,0^\\circ&\\text{Rot}\\,120^\\circ\\\\\n",
    "\\end{array}$\n",
    "\n",
    "What do you notice about the two tables?"
   ]
  },
  {
   "cell_type": "markdown",
   "metadata": {
    "slideshow": {
     "slide_type": "subslide"
    }
   },
   "source": [
    "\"Addition mod 3\" has the same *structure* as \"Rotations of an equilateral triangle\"\n",
    "\n",
    "(Technically we'd say they're **isomorphic**)"
   ]
  },
  {
   "cell_type": "markdown",
   "metadata": {
    "slideshow": {
     "slide_type": "subslide"
    }
   },
   "source": [
    "### Example\n",
    "\n",
    "* **Objects** The numbers 0,1,2,3\n",
    "* **Action** Multiplication *modulo* 4\n",
    "\n",
    "$\\begin{array}{c|cccc}\n",
    "\\times&0&1&2&3\\\\\n",
    "\\hline\n",
    "0&\\\\\n",
    "1&\\\\\n",
    "2&\\\\\n",
    "3&\\\\\n",
    "\\end{array}$"
   ]
  },
  {
   "cell_type": "markdown",
   "metadata": {
    "slideshow": {
     "slide_type": "subslide"
    }
   },
   "source": [
    "### Example\n",
    "\n",
    "* **Objects** The symmetries of a rectangle \n",
    "  * $I=$identity (do nothing)\n",
    "  * $R=$rotate (through $180^\\circ$)\n",
    "  * $H=$horizontal reflection\n",
    "  * $V=$vertical reflection\n",
    "* **Action** Composition (one followed by another)\n",
    "\n",
    "$\\begin{array}{l|llll}\n",
    "\\circ&I&R&H&V\\\\\n",
    "\\hline\n",
    "I\\\\\n",
    "R\\\\\n",
    "H\\\\\n",
    "V\\\\\n",
    "\\end{array}$"
   ]
  },
  {
   "cell_type": "markdown",
   "metadata": {
    "slideshow": {
     "slide_type": "subslide"
    }
   },
   "source": [
    "$\\begin{array}{c|cccc}\n",
    "\\times&0&1&2&3\\\\\n",
    "\\hline\n",
    "0&0&0&0&0\\\\\n",
    "1&0&1&2&3\\\\\n",
    "2&0&2&0&2\\\\\n",
    "3&0&3&2&1\\\\\n",
    "\\end{array}\\;\\;\\;\\;\n",
    "\\begin{array}{l|llll}\n",
    "\\circ&I&R&H&V\\\\\n",
    "\\hline\n",
    "I&I&R&H&V\\\\\n",
    "R&R&I&V&H\\\\\n",
    "H&H&V&I&R\\\\\n",
    "V&V&H&R&I\\\\\n",
    "\\end{array}$\n",
    "\n",
    "What do you notice about the tables?"
   ]
  },
  {
   "cell_type": "markdown",
   "metadata": {
    "slideshow": {
     "slide_type": "fragment"
    }
   },
   "source": [
    "* They're not the same structure\n",
    "* They both have an **identity** object\n",
    "* Some objects have **inverses**\n",
    "* What's going on with $2\\times2$?"
   ]
  },
  {
   "cell_type": "markdown",
   "metadata": {
    "slideshow": {
     "slide_type": "slide"
    }
   },
   "source": [
    "Filling out these tables by hand gets tedious, so let's use Python to speed things up.\n",
    "\n",
    "Make a new cell at the bottom of your notebook and follow along."
   ]
  },
  {
   "cell_type": "code",
   "execution_count": null,
   "metadata": {},
   "outputs": [],
   "source": [
    "objects = [1,2,3,4]\n",
    "\n",
    "def action(a, b):\n",
    "    return (a * b)%5"
   ]
  },
  {
   "cell_type": "code",
   "execution_count": null,
   "metadata": {},
   "outputs": [],
   "source": [
    "for a in objects:\n",
    "    print([action(a, b) for b in objects])"
   ]
  },
  {
   "cell_type": "markdown",
   "metadata": {
    "slideshow": {
     "slide_type": "slide"
    }
   },
   "source": [
    "# Groups\n",
    "\n",
    "If a structure meets certain requirements, we call it a **group**\n",
    "\n",
    "* **Closure** The action shouldn't produce objects we haven't seen before\n",
    "\n",
    "* **Identity** There should be an object that doesn't do anything\n",
    "\n",
    "* **Inverses** Every object should have an inverse. An object and its inverse should produce the identity\n",
    "\n",
    "* **Associativity** eg $(a+b)+c=a+(b+c)$\n",
    "\n",
    "Look at the tables so far. Can you tell from the tables which ones are *groups*?"
   ]
  },
  {
   "cell_type": "markdown",
   "metadata": {
    "slideshow": {
     "slide_type": "subslide"
    }
   },
   "source": [
    "Now open `1_exploring_structure.ipynb` and follow the instructions"
   ]
  }
 ],
 "metadata": {
  "celltoolbar": "Slideshow",
  "kernelspec": {
   "display_name": "Python 3",
   "language": "python",
   "name": "python3"
  },
  "language_info": {
   "codemirror_mode": {
    "name": "ipython",
    "version": 3
   },
   "file_extension": ".py",
   "mimetype": "text/x-python",
   "name": "python",
   "nbconvert_exporter": "python",
   "pygments_lexer": "ipython3",
   "version": "3.5.2"
  }
 },
 "nbformat": 4,
 "nbformat_minor": 2
}
