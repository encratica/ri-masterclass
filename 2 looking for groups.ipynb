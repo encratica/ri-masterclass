{
 "cells": [
  {
   "cell_type": "markdown",
   "metadata": {
    "slideshow": {
     "slide_type": "slide"
    }
   },
   "source": [
    "The necessary imports"
   ]
  },
  {
   "cell_type": "code",
   "execution_count": 1,
   "metadata": {
    "hide_input": false,
    "slideshow": {
     "slide_type": "-"
    }
   },
   "outputs": [],
   "source": [
    "from ipythonblocks import BlockGrid\n",
    "from colour import Color"
   ]
  },
  {
   "cell_type": "markdown",
   "metadata": {
    "slideshow": {
     "slide_type": "subslide"
    }
   },
   "source": [
    "A function to generate a list of colours starting with white for zero, black for one, and then a gradient from red for two up to blue for n"
   ]
  },
  {
   "cell_type": "code",
   "execution_count": 2,
   "metadata": {
    "slideshow": {
     "slide_type": "-"
    }
   },
   "outputs": [],
   "source": [
    "def generate_colormap(n):\n",
    "    red = Color(\"red\")\n",
    "    blue = Color(\"blue\")\n",
    "    return [(255,255,255),(0,0,0)]+\\\n",
    "        [(c.red*255,c.green*255,c.blue*255) \n",
    "         for c in list(red.range_to(blue,n-2))]"
   ]
  },
  {
   "cell_type": "markdown",
   "metadata": {
    "slideshow": {
     "slide_type": "slide"
    }
   },
   "source": [
    "Create a grid showing addition modulo n"
   ]
  },
  {
   "cell_type": "code",
   "execution_count": 3,
   "metadata": {
    "scrolled": false,
    "slideshow": {
     "slide_type": "-"
    }
   },
   "outputs": [
    {
     "data": {
      "text/html": [
       "<style type=\"text/css\">table.blockgrid {border: none;} .blockgrid tr {border: none;} .blockgrid td {padding: 0px;} #blocks5ee9e95d-cfec-439b-9351-5551308f4335 td {border: 0px solid white;}</style><table id=\"blocks5ee9e95d-cfec-439b-9351-5551308f4335\" class=\"blockgrid\"><tbody><tr><td title=\"Index: [0, 0]&#10;Color: (255, 255, 255)\" style=\"width: 20px; height: 20px;background-color: rgb(255, 255, 255);\"></td><td title=\"Index: [0, 1]&#10;Color: (0, 0, 0)\" style=\"width: 20px; height: 20px;background-color: rgb(0, 0, 0);\"></td><td title=\"Index: [0, 2]&#10;Color: (255, 0, 0)\" style=\"width: 20px; height: 20px;background-color: rgb(255, 0, 0);\"></td><td title=\"Index: [0, 3]&#10;Color: (255, 255, 0)\" style=\"width: 20px; height: 20px;background-color: rgb(255, 255, 0);\"></td><td title=\"Index: [0, 4]&#10;Color: (0, 255, 0)\" style=\"width: 20px; height: 20px;background-color: rgb(0, 255, 0);\"></td><td title=\"Index: [0, 5]&#10;Color: (0, 255, 255)\" style=\"width: 20px; height: 20px;background-color: rgb(0, 255, 255);\"></td><td title=\"Index: [0, 6]&#10;Color: (0, 0, 255)\" style=\"width: 20px; height: 20px;background-color: rgb(0, 0, 255);\"></td></tr></tbody></table>"
      ],
      "text/plain": [
       "<IPython.core.display.HTML object>"
      ]
     },
     "metadata": {},
     "output_type": "display_data"
    },
    {
     "name": "stdout",
     "output_type": "stream",
     "text": [
      "Addition modulo 7\n"
     ]
    },
    {
     "data": {
      "text/html": [
       "<style type=\"text/css\">table.blockgrid {border: none;} .blockgrid tr {border: none;} .blockgrid td {padding: 0px;} #blockse45edf24-9c02-4cfb-a5d0-68027c8cc866 td {border: 0px solid white;}</style><table id=\"blockse45edf24-9c02-4cfb-a5d0-68027c8cc866\" class=\"blockgrid\"><tbody><tr><td title=\"Index: [0, 0]&#10;Color: (255, 255, 255)\" style=\"width: 20px; height: 20px;background-color: rgb(255, 255, 255);\"></td><td title=\"Index: [0, 1]&#10;Color: (0, 0, 0)\" style=\"width: 20px; height: 20px;background-color: rgb(0, 0, 0);\"></td><td title=\"Index: [0, 2]&#10;Color: (255, 0, 0)\" style=\"width: 20px; height: 20px;background-color: rgb(255, 0, 0);\"></td><td title=\"Index: [0, 3]&#10;Color: (255, 255, 0)\" style=\"width: 20px; height: 20px;background-color: rgb(255, 255, 0);\"></td><td title=\"Index: [0, 4]&#10;Color: (0, 255, 0)\" style=\"width: 20px; height: 20px;background-color: rgb(0, 255, 0);\"></td><td title=\"Index: [0, 5]&#10;Color: (0, 255, 255)\" style=\"width: 20px; height: 20px;background-color: rgb(0, 255, 255);\"></td><td title=\"Index: [0, 6]&#10;Color: (0, 0, 255)\" style=\"width: 20px; height: 20px;background-color: rgb(0, 0, 255);\"></td></tr><tr><td title=\"Index: [1, 0]&#10;Color: (0, 0, 0)\" style=\"width: 20px; height: 20px;background-color: rgb(0, 0, 0);\"></td><td title=\"Index: [1, 1]&#10;Color: (255, 0, 0)\" style=\"width: 20px; height: 20px;background-color: rgb(255, 0, 0);\"></td><td title=\"Index: [1, 2]&#10;Color: (255, 255, 0)\" style=\"width: 20px; height: 20px;background-color: rgb(255, 255, 0);\"></td><td title=\"Index: [1, 3]&#10;Color: (0, 255, 0)\" style=\"width: 20px; height: 20px;background-color: rgb(0, 255, 0);\"></td><td title=\"Index: [1, 4]&#10;Color: (0, 255, 255)\" style=\"width: 20px; height: 20px;background-color: rgb(0, 255, 255);\"></td><td title=\"Index: [1, 5]&#10;Color: (0, 0, 255)\" style=\"width: 20px; height: 20px;background-color: rgb(0, 0, 255);\"></td><td title=\"Index: [1, 6]&#10;Color: (255, 255, 255)\" style=\"width: 20px; height: 20px;background-color: rgb(255, 255, 255);\"></td></tr><tr><td title=\"Index: [2, 0]&#10;Color: (255, 0, 0)\" style=\"width: 20px; height: 20px;background-color: rgb(255, 0, 0);\"></td><td title=\"Index: [2, 1]&#10;Color: (255, 255, 0)\" style=\"width: 20px; height: 20px;background-color: rgb(255, 255, 0);\"></td><td title=\"Index: [2, 2]&#10;Color: (0, 255, 0)\" style=\"width: 20px; height: 20px;background-color: rgb(0, 255, 0);\"></td><td title=\"Index: [2, 3]&#10;Color: (0, 255, 255)\" style=\"width: 20px; height: 20px;background-color: rgb(0, 255, 255);\"></td><td title=\"Index: [2, 4]&#10;Color: (0, 0, 255)\" style=\"width: 20px; height: 20px;background-color: rgb(0, 0, 255);\"></td><td title=\"Index: [2, 5]&#10;Color: (255, 255, 255)\" style=\"width: 20px; height: 20px;background-color: rgb(255, 255, 255);\"></td><td title=\"Index: [2, 6]&#10;Color: (0, 0, 0)\" style=\"width: 20px; height: 20px;background-color: rgb(0, 0, 0);\"></td></tr><tr><td title=\"Index: [3, 0]&#10;Color: (255, 255, 0)\" style=\"width: 20px; height: 20px;background-color: rgb(255, 255, 0);\"></td><td title=\"Index: [3, 1]&#10;Color: (0, 255, 0)\" style=\"width: 20px; height: 20px;background-color: rgb(0, 255, 0);\"></td><td title=\"Index: [3, 2]&#10;Color: (0, 255, 255)\" style=\"width: 20px; height: 20px;background-color: rgb(0, 255, 255);\"></td><td title=\"Index: [3, 3]&#10;Color: (0, 0, 255)\" style=\"width: 20px; height: 20px;background-color: rgb(0, 0, 255);\"></td><td title=\"Index: [3, 4]&#10;Color: (255, 255, 255)\" style=\"width: 20px; height: 20px;background-color: rgb(255, 255, 255);\"></td><td title=\"Index: [3, 5]&#10;Color: (0, 0, 0)\" style=\"width: 20px; height: 20px;background-color: rgb(0, 0, 0);\"></td><td title=\"Index: [3, 6]&#10;Color: (255, 0, 0)\" style=\"width: 20px; height: 20px;background-color: rgb(255, 0, 0);\"></td></tr><tr><td title=\"Index: [4, 0]&#10;Color: (0, 255, 0)\" style=\"width: 20px; height: 20px;background-color: rgb(0, 255, 0);\"></td><td title=\"Index: [4, 1]&#10;Color: (0, 255, 255)\" style=\"width: 20px; height: 20px;background-color: rgb(0, 255, 255);\"></td><td title=\"Index: [4, 2]&#10;Color: (0, 0, 255)\" style=\"width: 20px; height: 20px;background-color: rgb(0, 0, 255);\"></td><td title=\"Index: [4, 3]&#10;Color: (255, 255, 255)\" style=\"width: 20px; height: 20px;background-color: rgb(255, 255, 255);\"></td><td title=\"Index: [4, 4]&#10;Color: (0, 0, 0)\" style=\"width: 20px; height: 20px;background-color: rgb(0, 0, 0);\"></td><td title=\"Index: [4, 5]&#10;Color: (255, 0, 0)\" style=\"width: 20px; height: 20px;background-color: rgb(255, 0, 0);\"></td><td title=\"Index: [4, 6]&#10;Color: (255, 255, 0)\" style=\"width: 20px; height: 20px;background-color: rgb(255, 255, 0);\"></td></tr><tr><td title=\"Index: [5, 0]&#10;Color: (0, 255, 255)\" style=\"width: 20px; height: 20px;background-color: rgb(0, 255, 255);\"></td><td title=\"Index: [5, 1]&#10;Color: (0, 0, 255)\" style=\"width: 20px; height: 20px;background-color: rgb(0, 0, 255);\"></td><td title=\"Index: [5, 2]&#10;Color: (255, 255, 255)\" style=\"width: 20px; height: 20px;background-color: rgb(255, 255, 255);\"></td><td title=\"Index: [5, 3]&#10;Color: (0, 0, 0)\" style=\"width: 20px; height: 20px;background-color: rgb(0, 0, 0);\"></td><td title=\"Index: [5, 4]&#10;Color: (255, 0, 0)\" style=\"width: 20px; height: 20px;background-color: rgb(255, 0, 0);\"></td><td title=\"Index: [5, 5]&#10;Color: (255, 255, 0)\" style=\"width: 20px; height: 20px;background-color: rgb(255, 255, 0);\"></td><td title=\"Index: [5, 6]&#10;Color: (0, 255, 0)\" style=\"width: 20px; height: 20px;background-color: rgb(0, 255, 0);\"></td></tr><tr><td title=\"Index: [6, 0]&#10;Color: (0, 0, 255)\" style=\"width: 20px; height: 20px;background-color: rgb(0, 0, 255);\"></td><td title=\"Index: [6, 1]&#10;Color: (255, 255, 255)\" style=\"width: 20px; height: 20px;background-color: rgb(255, 255, 255);\"></td><td title=\"Index: [6, 2]&#10;Color: (0, 0, 0)\" style=\"width: 20px; height: 20px;background-color: rgb(0, 0, 0);\"></td><td title=\"Index: [6, 3]&#10;Color: (255, 0, 0)\" style=\"width: 20px; height: 20px;background-color: rgb(255, 0, 0);\"></td><td title=\"Index: [6, 4]&#10;Color: (255, 255, 0)\" style=\"width: 20px; height: 20px;background-color: rgb(255, 255, 0);\"></td><td title=\"Index: [6, 5]&#10;Color: (0, 255, 0)\" style=\"width: 20px; height: 20px;background-color: rgb(0, 255, 0);\"></td><td title=\"Index: [6, 6]&#10;Color: (0, 255, 255)\" style=\"width: 20px; height: 20px;background-color: rgb(0, 255, 255);\"></td></tr></tbody></table>"
      ],
      "text/plain": [
       "<IPython.core.display.HTML object>"
      ]
     },
     "metadata": {},
     "output_type": "display_data"
    }
   ],
   "source": [
    "n = 7\n",
    "size_of_blocks = 20\n",
    "colormap = generate_colormap(n)\n",
    "strip = BlockGrid(n,1,(255,255,255),size_of_blocks)\n",
    "strip.lines_on = False\n",
    "for block in strip:\n",
    "    block.rgb = colormap[block.col]\n",
    "strip.show()\n",
    "grid = BlockGrid(n,n,(255,255,255),size_of_blocks)\n",
    "grid.lines_on = False\n",
    "for block in grid:\n",
    "    addition = block.row+block.col\n",
    "    remainder = addition%n\n",
    "    block.rgb = colormap[remainder]\n",
    "print(\"Addition modulo {}\".format(n))\n",
    "grid.show()"
   ]
  },
  {
   "cell_type": "markdown",
   "metadata": {
    "slideshow": {
     "slide_type": "slide"
    }
   },
   "source": [
    "Create a grid showing multiplication modulo n"
   ]
  },
  {
   "cell_type": "code",
   "execution_count": null,
   "metadata": {
    "scrolled": false,
    "slideshow": {
     "slide_type": "-"
    }
   },
   "outputs": [
    {
     "data": {
      "text/html": [
       "<style type=\"text/css\">table.blockgrid {border: none;} .blockgrid tr {border: none;} .blockgrid td {padding: 0px;} #blocksde92f1bb-7bfa-4dca-afc6-014a163a01b5 td {border: 0px solid white;}</style><table id=\"blocksde92f1bb-7bfa-4dca-afc6-014a163a01b5\" class=\"blockgrid\"><tbody><tr><td title=\"Index: [0, 0]&#10;Color: (255, 255, 255)\" style=\"width: 2px; height: 2px;background-color: rgb(255, 255, 255);\"></td><td title=\"Index: [0, 1]&#10;Color: (0, 0, 0)\" style=\"width: 2px; height: 2px;background-color: rgb(0, 0, 0);\"></td><td title=\"Index: [0, 2]&#10;Color: (255, 0, 0)\" style=\"width: 2px; height: 2px;background-color: rgb(255, 0, 0);\"></td><td title=\"Index: [0, 3]&#10;Color: (255, 5, 0)\" style=\"width: 2px; height: 2px;background-color: rgb(255, 5, 0);\"></td><td title=\"Index: [0, 4]&#10;Color: (255, 10, 0)\" style=\"width: 2px; height: 2px;background-color: rgb(255, 10, 0);\"></td><td title=\"Index: [0, 5]&#10;Color: (255, 15, 0)\" style=\"width: 2px; height: 2px;background-color: rgb(255, 15, 0);\"></td><td title=\"Index: [0, 6]&#10;Color: (255, 20, 0)\" style=\"width: 2px; height: 2px;background-color: rgb(255, 20, 0);\"></td><td title=\"Index: [0, 7]&#10;Color: (255, 25, 0)\" style=\"width: 2px; height: 2px;background-color: rgb(255, 25, 0);\"></td><td title=\"Index: [0, 8]&#10;Color: (255, 30, 0)\" style=\"width: 2px; height: 2px;background-color: rgb(255, 30, 0);\"></td><td title=\"Index: [0, 9]&#10;Color: (255, 35, 0)\" style=\"width: 2px; height: 2px;background-color: rgb(255, 35, 0);\"></td><td title=\"Index: [0, 10]&#10;Color: (255, 40, 0)\" style=\"width: 2px; height: 2px;background-color: rgb(255, 40, 0);\"></td><td title=\"Index: [0, 11]&#10;Color: (255, 45, 0)\" style=\"width: 2px; height: 2px;background-color: rgb(255, 45, 0);\"></td><td title=\"Index: [0, 12]&#10;Color: (255, 50, 0)\" style=\"width: 2px; height: 2px;background-color: rgb(255, 50, 0);\"></td><td title=\"Index: [0, 13]&#10;Color: (255, 54, 0)\" style=\"width: 2px; height: 2px;background-color: rgb(255, 54, 0);\"></td><td title=\"Index: [0, 14]&#10;Color: (255, 59, 0)\" style=\"width: 2px; height: 2px;background-color: rgb(255, 59, 0);\"></td><td title=\"Index: [0, 15]&#10;Color: (255, 64, 0)\" style=\"width: 2px; height: 2px;background-color: rgb(255, 64, 0);\"></td><td title=\"Index: [0, 16]&#10;Color: (255, 69, 0)\" style=\"width: 2px; height: 2px;background-color: rgb(255, 69, 0);\"></td><td title=\"Index: [0, 17]&#10;Color: (255, 74, 0)\" style=\"width: 2px; height: 2px;background-color: rgb(255, 74, 0);\"></td><td title=\"Index: [0, 18]&#10;Color: (255, 79, 0)\" style=\"width: 2px; height: 2px;background-color: rgb(255, 79, 0);\"></td><td title=\"Index: [0, 19]&#10;Color: (255, 84, 0)\" style=\"width: 2px; height: 2px;background-color: rgb(255, 84, 0);\"></td><td title=\"Index: [0, 20]&#10;Color: (255, 89, 0)\" style=\"width: 2px; height: 2px;background-color: rgb(255, 89, 0);\"></td><td title=\"Index: [0, 21]&#10;Color: (255, 94, 0)\" style=\"width: 2px; height: 2px;background-color: rgb(255, 94, 0);\"></td><td title=\"Index: [0, 22]&#10;Color: (255, 99, 0)\" style=\"width: 2px; height: 2px;background-color: rgb(255, 99, 0);\"></td><td title=\"Index: [0, 23]&#10;Color: (255, 104, 0)\" style=\"width: 2px; height: 2px;background-color: rgb(255, 104, 0);\"></td><td title=\"Index: [0, 24]&#10;Color: (255, 109, 0)\" style=\"width: 2px; height: 2px;background-color: rgb(255, 109, 0);\"></td><td title=\"Index: [0, 25]&#10;Color: (255, 114, 0)\" style=\"width: 2px; height: 2px;background-color: rgb(255, 114, 0);\"></td><td title=\"Index: [0, 26]&#10;Color: (255, 119, 0)\" style=\"width: 2px; height: 2px;background-color: rgb(255, 119, 0);\"></td><td title=\"Index: [0, 27]&#10;Color: (255, 124, 0)\" style=\"width: 2px; height: 2px;background-color: rgb(255, 124, 0);\"></td><td title=\"Index: [0, 28]&#10;Color: (255, 129, 0)\" style=\"width: 2px; height: 2px;background-color: rgb(255, 129, 0);\"></td><td title=\"Index: [0, 29]&#10;Color: (255, 134, 0)\" style=\"width: 2px; height: 2px;background-color: rgb(255, 134, 0);\"></td><td title=\"Index: [0, 30]&#10;Color: (255, 139, 0)\" style=\"width: 2px; height: 2px;background-color: rgb(255, 139, 0);\"></td><td title=\"Index: [0, 31]&#10;Color: (255, 144, 0)\" style=\"width: 2px; height: 2px;background-color: rgb(255, 144, 0);\"></td><td title=\"Index: [0, 32]&#10;Color: (255, 149, 0)\" style=\"width: 2px; height: 2px;background-color: rgb(255, 149, 0);\"></td><td title=\"Index: [0, 33]&#10;Color: (255, 153, 0)\" style=\"width: 2px; height: 2px;background-color: rgb(255, 153, 0);\"></td><td title=\"Index: [0, 34]&#10;Color: (255, 158, 0)\" style=\"width: 2px; height: 2px;background-color: rgb(255, 158, 0);\"></td><td title=\"Index: [0, 35]&#10;Color: (255, 163, 0)\" style=\"width: 2px; height: 2px;background-color: rgb(255, 163, 0);\"></td><td title=\"Index: [0, 36]&#10;Color: (255, 168, 0)\" style=\"width: 2px; height: 2px;background-color: rgb(255, 168, 0);\"></td><td title=\"Index: [0, 37]&#10;Color: (255, 173, 0)\" style=\"width: 2px; height: 2px;background-color: rgb(255, 173, 0);\"></td><td title=\"Index: [0, 38]&#10;Color: (255, 178, 0)\" style=\"width: 2px; height: 2px;background-color: rgb(255, 178, 0);\"></td><td title=\"Index: [0, 39]&#10;Color: (255, 183, 0)\" style=\"width: 2px; height: 2px;background-color: rgb(255, 183, 0);\"></td><td title=\"Index: [0, 40]&#10;Color: (255, 188, 0)\" style=\"width: 2px; height: 2px;background-color: rgb(255, 188, 0);\"></td><td title=\"Index: [0, 41]&#10;Color: (255, 193, 0)\" style=\"width: 2px; height: 2px;background-color: rgb(255, 193, 0);\"></td><td title=\"Index: [0, 42]&#10;Color: (255, 198, 0)\" style=\"width: 2px; height: 2px;background-color: rgb(255, 198, 0);\"></td><td title=\"Index: [0, 43]&#10;Color: (255, 203, 0)\" style=\"width: 2px; height: 2px;background-color: rgb(255, 203, 0);\"></td><td title=\"Index: [0, 44]&#10;Color: (255, 208, 0)\" style=\"width: 2px; height: 2px;background-color: rgb(255, 208, 0);\"></td><td title=\"Index: [0, 45]&#10;Color: (255, 213, 0)\" style=\"width: 2px; height: 2px;background-color: rgb(255, 213, 0);\"></td><td title=\"Index: [0, 46]&#10;Color: (255, 218, 0)\" style=\"width: 2px; height: 2px;background-color: rgb(255, 218, 0);\"></td><td title=\"Index: [0, 47]&#10;Color: (255, 223, 0)\" style=\"width: 2px; height: 2px;background-color: rgb(255, 223, 0);\"></td><td title=\"Index: [0, 48]&#10;Color: (255, 228, 0)\" style=\"width: 2px; height: 2px;background-color: rgb(255, 228, 0);\"></td><td title=\"Index: [0, 49]&#10;Color: (255, 233, 0)\" style=\"width: 2px; height: 2px;background-color: rgb(255, 233, 0);\"></td><td title=\"Index: [0, 50]&#10;Color: (255, 238, 0)\" style=\"width: 2px; height: 2px;background-color: rgb(255, 238, 0);\"></td><td title=\"Index: [0, 51]&#10;Color: (255, 243, 0)\" style=\"width: 2px; height: 2px;background-color: rgb(255, 243, 0);\"></td><td title=\"Index: [0, 52]&#10;Color: (255, 248, 0)\" style=\"width: 2px; height: 2px;background-color: rgb(255, 248, 0);\"></td><td title=\"Index: [0, 53]&#10;Color: (255, 253, 0)\" style=\"width: 2px; height: 2px;background-color: rgb(255, 253, 0);\"></td><td title=\"Index: [0, 54]&#10;Color: (253, 255, 0)\" style=\"width: 2px; height: 2px;background-color: rgb(253, 255, 0);\"></td><td title=\"Index: [0, 55]&#10;Color: (248, 255, 0)\" style=\"width: 2px; height: 2px;background-color: rgb(248, 255, 0);\"></td><td title=\"Index: [0, 56]&#10;Color: (243, 255, 0)\" style=\"width: 2px; height: 2px;background-color: rgb(243, 255, 0);\"></td><td title=\"Index: [0, 57]&#10;Color: (238, 255, 0)\" style=\"width: 2px; height: 2px;background-color: rgb(238, 255, 0);\"></td><td title=\"Index: [0, 58]&#10;Color: (233, 255, 0)\" style=\"width: 2px; height: 2px;background-color: rgb(233, 255, 0);\"></td><td title=\"Index: [0, 59]&#10;Color: (228, 255, 0)\" style=\"width: 2px; height: 2px;background-color: rgb(228, 255, 0);\"></td><td title=\"Index: [0, 60]&#10;Color: (223, 255, 0)\" style=\"width: 2px; height: 2px;background-color: rgb(223, 255, 0);\"></td><td title=\"Index: [0, 61]&#10;Color: (218, 255, 0)\" style=\"width: 2px; height: 2px;background-color: rgb(218, 255, 0);\"></td><td title=\"Index: [0, 62]&#10;Color: (213, 255, 0)\" style=\"width: 2px; height: 2px;background-color: rgb(213, 255, 0);\"></td><td title=\"Index: [0, 63]&#10;Color: (208, 255, 0)\" style=\"width: 2px; height: 2px;background-color: rgb(208, 255, 0);\"></td><td title=\"Index: [0, 64]&#10;Color: (203, 255, 0)\" style=\"width: 2px; height: 2px;background-color: rgb(203, 255, 0);\"></td><td title=\"Index: [0, 65]&#10;Color: (198, 255, 0)\" style=\"width: 2px; height: 2px;background-color: rgb(198, 255, 0);\"></td><td title=\"Index: [0, 66]&#10;Color: (193, 255, 0)\" style=\"width: 2px; height: 2px;background-color: rgb(193, 255, 0);\"></td><td title=\"Index: [0, 67]&#10;Color: (188, 255, 0)\" style=\"width: 2px; height: 2px;background-color: rgb(188, 255, 0);\"></td><td title=\"Index: [0, 68]&#10;Color: (183, 255, 0)\" style=\"width: 2px; height: 2px;background-color: rgb(183, 255, 0);\"></td><td title=\"Index: [0, 69]&#10;Color: (178, 255, 0)\" style=\"width: 2px; height: 2px;background-color: rgb(178, 255, 0);\"></td><td title=\"Index: [0, 70]&#10;Color: (173, 255, 0)\" style=\"width: 2px; height: 2px;background-color: rgb(173, 255, 0);\"></td><td title=\"Index: [0, 71]&#10;Color: (168, 255, 0)\" style=\"width: 2px; height: 2px;background-color: rgb(168, 255, 0);\"></td><td title=\"Index: [0, 72]&#10;Color: (163, 255, 0)\" style=\"width: 2px; height: 2px;background-color: rgb(163, 255, 0);\"></td><td title=\"Index: [0, 73]&#10;Color: (158, 255, 0)\" style=\"width: 2px; height: 2px;background-color: rgb(158, 255, 0);\"></td><td title=\"Index: [0, 74]&#10;Color: (153, 255, 0)\" style=\"width: 2px; height: 2px;background-color: rgb(153, 255, 0);\"></td><td title=\"Index: [0, 75]&#10;Color: (149, 255, 0)\" style=\"width: 2px; height: 2px;background-color: rgb(149, 255, 0);\"></td><td title=\"Index: [0, 76]&#10;Color: (144, 255, 0)\" style=\"width: 2px; height: 2px;background-color: rgb(144, 255, 0);\"></td><td title=\"Index: [0, 77]&#10;Color: (139, 255, 0)\" style=\"width: 2px; height: 2px;background-color: rgb(139, 255, 0);\"></td><td title=\"Index: [0, 78]&#10;Color: (134, 255, 0)\" style=\"width: 2px; height: 2px;background-color: rgb(134, 255, 0);\"></td><td title=\"Index: [0, 79]&#10;Color: (129, 255, 0)\" style=\"width: 2px; height: 2px;background-color: rgb(129, 255, 0);\"></td><td title=\"Index: [0, 80]&#10;Color: (124, 255, 0)\" style=\"width: 2px; height: 2px;background-color: rgb(124, 255, 0);\"></td><td title=\"Index: [0, 81]&#10;Color: (119, 255, 0)\" style=\"width: 2px; height: 2px;background-color: rgb(119, 255, 0);\"></td><td title=\"Index: [0, 82]&#10;Color: (114, 255, 0)\" style=\"width: 2px; height: 2px;background-color: rgb(114, 255, 0);\"></td><td title=\"Index: [0, 83]&#10;Color: (109, 255, 0)\" style=\"width: 2px; height: 2px;background-color: rgb(109, 255, 0);\"></td><td title=\"Index: [0, 84]&#10;Color: (104, 255, 0)\" style=\"width: 2px; height: 2px;background-color: rgb(104, 255, 0);\"></td><td title=\"Index: [0, 85]&#10;Color: (99, 255, 0)\" style=\"width: 2px; height: 2px;background-color: rgb(99, 255, 0);\"></td><td title=\"Index: [0, 86]&#10;Color: (94, 255, 0)\" style=\"width: 2px; height: 2px;background-color: rgb(94, 255, 0);\"></td><td title=\"Index: [0, 87]&#10;Color: (89, 255, 0)\" style=\"width: 2px; height: 2px;background-color: rgb(89, 255, 0);\"></td><td title=\"Index: [0, 88]&#10;Color: (84, 255, 0)\" style=\"width: 2px; height: 2px;background-color: rgb(84, 255, 0);\"></td><td title=\"Index: [0, 89]&#10;Color: (79, 255, 0)\" style=\"width: 2px; height: 2px;background-color: rgb(79, 255, 0);\"></td><td title=\"Index: [0, 90]&#10;Color: (74, 255, 0)\" style=\"width: 2px; height: 2px;background-color: rgb(74, 255, 0);\"></td><td title=\"Index: [0, 91]&#10;Color: (69, 255, 0)\" style=\"width: 2px; height: 2px;background-color: rgb(69, 255, 0);\"></td><td title=\"Index: [0, 92]&#10;Color: (64, 255, 0)\" style=\"width: 2px; height: 2px;background-color: rgb(64, 255, 0);\"></td><td title=\"Index: [0, 93]&#10;Color: (59, 255, 0)\" style=\"width: 2px; height: 2px;background-color: rgb(59, 255, 0);\"></td><td title=\"Index: [0, 94]&#10;Color: (54, 255, 0)\" style=\"width: 2px; height: 2px;background-color: rgb(54, 255, 0);\"></td><td title=\"Index: [0, 95]&#10;Color: (50, 255, 0)\" style=\"width: 2px; height: 2px;background-color: rgb(50, 255, 0);\"></td><td title=\"Index: [0, 96]&#10;Color: (45, 255, 0)\" style=\"width: 2px; height: 2px;background-color: rgb(45, 255, 0);\"></td><td title=\"Index: [0, 97]&#10;Color: (40, 255, 0)\" style=\"width: 2px; height: 2px;background-color: rgb(40, 255, 0);\"></td><td title=\"Index: [0, 98]&#10;Color: (35, 255, 0)\" style=\"width: 2px; height: 2px;background-color: rgb(35, 255, 0);\"></td><td title=\"Index: [0, 99]&#10;Color: (30, 255, 0)\" style=\"width: 2px; height: 2px;background-color: rgb(30, 255, 0);\"></td><td title=\"Index: [0, 100]&#10;Color: (25, 255, 0)\" style=\"width: 2px; height: 2px;background-color: rgb(25, 255, 0);\"></td><td title=\"Index: [0, 101]&#10;Color: (20, 255, 0)\" style=\"width: 2px; height: 2px;background-color: rgb(20, 255, 0);\"></td><td title=\"Index: [0, 102]&#10;Color: (15, 255, 0)\" style=\"width: 2px; height: 2px;background-color: rgb(15, 255, 0);\"></td><td title=\"Index: [0, 103]&#10;Color: (10, 255, 0)\" style=\"width: 2px; height: 2px;background-color: rgb(10, 255, 0);\"></td><td title=\"Index: [0, 104]&#10;Color: (5, 255, 0)\" style=\"width: 2px; height: 2px;background-color: rgb(5, 255, 0);\"></td><td title=\"Index: [0, 105]&#10;Color: (0, 255, 0)\" style=\"width: 2px; height: 2px;background-color: rgb(0, 255, 0);\"></td><td title=\"Index: [0, 106]&#10;Color: (0, 255, 5)\" style=\"width: 2px; height: 2px;background-color: rgb(0, 255, 5);\"></td><td title=\"Index: [0, 107]&#10;Color: (0, 255, 10)\" style=\"width: 2px; height: 2px;background-color: rgb(0, 255, 10);\"></td><td title=\"Index: [0, 108]&#10;Color: (0, 255, 15)\" style=\"width: 2px; height: 2px;background-color: rgb(0, 255, 15);\"></td><td title=\"Index: [0, 109]&#10;Color: (0, 255, 20)\" style=\"width: 2px; height: 2px;background-color: rgb(0, 255, 20);\"></td><td title=\"Index: [0, 110]&#10;Color: (0, 255, 25)\" style=\"width: 2px; height: 2px;background-color: rgb(0, 255, 25);\"></td><td title=\"Index: [0, 111]&#10;Color: (0, 255, 30)\" style=\"width: 2px; height: 2px;background-color: rgb(0, 255, 30);\"></td><td title=\"Index: [0, 112]&#10;Color: (0, 255, 35)\" style=\"width: 2px; height: 2px;background-color: rgb(0, 255, 35);\"></td><td title=\"Index: [0, 113]&#10;Color: (0, 255, 40)\" style=\"width: 2px; height: 2px;background-color: rgb(0, 255, 40);\"></td><td title=\"Index: [0, 114]&#10;Color: (0, 255, 45)\" style=\"width: 2px; height: 2px;background-color: rgb(0, 255, 45);\"></td><td title=\"Index: [0, 115]&#10;Color: (0, 255, 50)\" style=\"width: 2px; height: 2px;background-color: rgb(0, 255, 50);\"></td><td title=\"Index: [0, 116]&#10;Color: (0, 255, 54)\" style=\"width: 2px; height: 2px;background-color: rgb(0, 255, 54);\"></td><td title=\"Index: [0, 117]&#10;Color: (0, 255, 59)\" style=\"width: 2px; height: 2px;background-color: rgb(0, 255, 59);\"></td><td title=\"Index: [0, 118]&#10;Color: (0, 255, 64)\" style=\"width: 2px; height: 2px;background-color: rgb(0, 255, 64);\"></td><td title=\"Index: [0, 119]&#10;Color: (0, 255, 69)\" style=\"width: 2px; height: 2px;background-color: rgb(0, 255, 69);\"></td><td title=\"Index: [0, 120]&#10;Color: (0, 255, 74)\" style=\"width: 2px; height: 2px;background-color: rgb(0, 255, 74);\"></td><td title=\"Index: [0, 121]&#10;Color: (0, 255, 79)\" style=\"width: 2px; height: 2px;background-color: rgb(0, 255, 79);\"></td><td title=\"Index: [0, 122]&#10;Color: (0, 255, 84)\" style=\"width: 2px; height: 2px;background-color: rgb(0, 255, 84);\"></td><td title=\"Index: [0, 123]&#10;Color: (0, 255, 89)\" style=\"width: 2px; height: 2px;background-color: rgb(0, 255, 89);\"></td><td title=\"Index: [0, 124]&#10;Color: (0, 255, 94)\" style=\"width: 2px; height: 2px;background-color: rgb(0, 255, 94);\"></td><td title=\"Index: [0, 125]&#10;Color: (0, 255, 99)\" style=\"width: 2px; height: 2px;background-color: rgb(0, 255, 99);\"></td><td title=\"Index: [0, 126]&#10;Color: (0, 255, 104)\" style=\"width: 2px; height: 2px;background-color: rgb(0, 255, 104);\"></td><td title=\"Index: [0, 127]&#10;Color: (0, 255, 109)\" style=\"width: 2px; height: 2px;background-color: rgb(0, 255, 109);\"></td><td title=\"Index: [0, 128]&#10;Color: (0, 255, 114)\" style=\"width: 2px; height: 2px;background-color: rgb(0, 255, 114);\"></td><td title=\"Index: [0, 129]&#10;Color: (0, 255, 119)\" style=\"width: 2px; height: 2px;background-color: rgb(0, 255, 119);\"></td><td title=\"Index: [0, 130]&#10;Color: (0, 255, 124)\" style=\"width: 2px; height: 2px;background-color: rgb(0, 255, 124);\"></td><td title=\"Index: [0, 131]&#10;Color: (0, 255, 129)\" style=\"width: 2px; height: 2px;background-color: rgb(0, 255, 129);\"></td><td title=\"Index: [0, 132]&#10;Color: (0, 255, 134)\" style=\"width: 2px; height: 2px;background-color: rgb(0, 255, 134);\"></td><td title=\"Index: [0, 133]&#10;Color: (0, 255, 139)\" style=\"width: 2px; height: 2px;background-color: rgb(0, 255, 139);\"></td><td title=\"Index: [0, 134]&#10;Color: (0, 255, 144)\" style=\"width: 2px; height: 2px;background-color: rgb(0, 255, 144);\"></td><td title=\"Index: [0, 135]&#10;Color: (0, 255, 149)\" style=\"width: 2px; height: 2px;background-color: rgb(0, 255, 149);\"></td><td title=\"Index: [0, 136]&#10;Color: (0, 255, 153)\" style=\"width: 2px; height: 2px;background-color: rgb(0, 255, 153);\"></td><td title=\"Index: [0, 137]&#10;Color: (0, 255, 158)\" style=\"width: 2px; height: 2px;background-color: rgb(0, 255, 158);\"></td><td title=\"Index: [0, 138]&#10;Color: (0, 255, 163)\" style=\"width: 2px; height: 2px;background-color: rgb(0, 255, 163);\"></td><td title=\"Index: [0, 139]&#10;Color: (0, 255, 168)\" style=\"width: 2px; height: 2px;background-color: rgb(0, 255, 168);\"></td><td title=\"Index: [0, 140]&#10;Color: (0, 255, 173)\" style=\"width: 2px; height: 2px;background-color: rgb(0, 255, 173);\"></td><td title=\"Index: [0, 141]&#10;Color: (0, 255, 178)\" style=\"width: 2px; height: 2px;background-color: rgb(0, 255, 178);\"></td><td title=\"Index: [0, 142]&#10;Color: (0, 255, 183)\" style=\"width: 2px; height: 2px;background-color: rgb(0, 255, 183);\"></td><td title=\"Index: [0, 143]&#10;Color: (0, 255, 188)\" style=\"width: 2px; height: 2px;background-color: rgb(0, 255, 188);\"></td><td title=\"Index: [0, 144]&#10;Color: (0, 255, 193)\" style=\"width: 2px; height: 2px;background-color: rgb(0, 255, 193);\"></td><td title=\"Index: [0, 145]&#10;Color: (0, 255, 198)\" style=\"width: 2px; height: 2px;background-color: rgb(0, 255, 198);\"></td><td title=\"Index: [0, 146]&#10;Color: (0, 255, 203)\" style=\"width: 2px; height: 2px;background-color: rgb(0, 255, 203);\"></td><td title=\"Index: [0, 147]&#10;Color: (0, 255, 208)\" style=\"width: 2px; height: 2px;background-color: rgb(0, 255, 208);\"></td><td title=\"Index: [0, 148]&#10;Color: (0, 255, 213)\" style=\"width: 2px; height: 2px;background-color: rgb(0, 255, 213);\"></td><td title=\"Index: [0, 149]&#10;Color: (0, 255, 218)\" style=\"width: 2px; height: 2px;background-color: rgb(0, 255, 218);\"></td><td title=\"Index: [0, 150]&#10;Color: (0, 255, 223)\" style=\"width: 2px; height: 2px;background-color: rgb(0, 255, 223);\"></td><td title=\"Index: [0, 151]&#10;Color: (0, 255, 228)\" style=\"width: 2px; height: 2px;background-color: rgb(0, 255, 228);\"></td><td title=\"Index: [0, 152]&#10;Color: (0, 255, 233)\" style=\"width: 2px; height: 2px;background-color: rgb(0, 255, 233);\"></td><td title=\"Index: [0, 153]&#10;Color: (0, 255, 238)\" style=\"width: 2px; height: 2px;background-color: rgb(0, 255, 238);\"></td><td title=\"Index: [0, 154]&#10;Color: (0, 255, 243)\" style=\"width: 2px; height: 2px;background-color: rgb(0, 255, 243);\"></td><td title=\"Index: [0, 155]&#10;Color: (0, 255, 248)\" style=\"width: 2px; height: 2px;background-color: rgb(0, 255, 248);\"></td><td title=\"Index: [0, 156]&#10;Color: (0, 255, 253)\" style=\"width: 2px; height: 2px;background-color: rgb(0, 255, 253);\"></td><td title=\"Index: [0, 157]&#10;Color: (0, 253, 255)\" style=\"width: 2px; height: 2px;background-color: rgb(0, 253, 255);\"></td><td title=\"Index: [0, 158]&#10;Color: (0, 248, 255)\" style=\"width: 2px; height: 2px;background-color: rgb(0, 248, 255);\"></td><td title=\"Index: [0, 159]&#10;Color: (0, 243, 255)\" style=\"width: 2px; height: 2px;background-color: rgb(0, 243, 255);\"></td><td title=\"Index: [0, 160]&#10;Color: (0, 238, 255)\" style=\"width: 2px; height: 2px;background-color: rgb(0, 238, 255);\"></td><td title=\"Index: [0, 161]&#10;Color: (0, 233, 255)\" style=\"width: 2px; height: 2px;background-color: rgb(0, 233, 255);\"></td><td title=\"Index: [0, 162]&#10;Color: (0, 228, 255)\" style=\"width: 2px; height: 2px;background-color: rgb(0, 228, 255);\"></td><td title=\"Index: [0, 163]&#10;Color: (0, 223, 255)\" style=\"width: 2px; height: 2px;background-color: rgb(0, 223, 255);\"></td><td title=\"Index: [0, 164]&#10;Color: (0, 218, 255)\" style=\"width: 2px; height: 2px;background-color: rgb(0, 218, 255);\"></td><td title=\"Index: [0, 165]&#10;Color: (0, 213, 255)\" style=\"width: 2px; height: 2px;background-color: rgb(0, 213, 255);\"></td><td title=\"Index: [0, 166]&#10;Color: (0, 208, 255)\" style=\"width: 2px; height: 2px;background-color: rgb(0, 208, 255);\"></td><td title=\"Index: [0, 167]&#10;Color: (0, 203, 255)\" style=\"width: 2px; height: 2px;background-color: rgb(0, 203, 255);\"></td><td title=\"Index: [0, 168]&#10;Color: (0, 198, 255)\" style=\"width: 2px; height: 2px;background-color: rgb(0, 198, 255);\"></td><td title=\"Index: [0, 169]&#10;Color: (0, 193, 255)\" style=\"width: 2px; height: 2px;background-color: rgb(0, 193, 255);\"></td><td title=\"Index: [0, 170]&#10;Color: (0, 188, 255)\" style=\"width: 2px; height: 2px;background-color: rgb(0, 188, 255);\"></td><td title=\"Index: [0, 171]&#10;Color: (0, 183, 255)\" style=\"width: 2px; height: 2px;background-color: rgb(0, 183, 255);\"></td><td title=\"Index: [0, 172]&#10;Color: (0, 178, 255)\" style=\"width: 2px; height: 2px;background-color: rgb(0, 178, 255);\"></td><td title=\"Index: [0, 173]&#10;Color: (0, 173, 255)\" style=\"width: 2px; height: 2px;background-color: rgb(0, 173, 255);\"></td><td title=\"Index: [0, 174]&#10;Color: (0, 168, 255)\" style=\"width: 2px; height: 2px;background-color: rgb(0, 168, 255);\"></td><td title=\"Index: [0, 175]&#10;Color: (0, 163, 255)\" style=\"width: 2px; height: 2px;background-color: rgb(0, 163, 255);\"></td><td title=\"Index: [0, 176]&#10;Color: (0, 158, 255)\" style=\"width: 2px; height: 2px;background-color: rgb(0, 158, 255);\"></td><td title=\"Index: [0, 177]&#10;Color: (0, 153, 255)\" style=\"width: 2px; height: 2px;background-color: rgb(0, 153, 255);\"></td><td title=\"Index: [0, 178]&#10;Color: (0, 149, 255)\" style=\"width: 2px; height: 2px;background-color: rgb(0, 149, 255);\"></td><td title=\"Index: [0, 179]&#10;Color: (0, 144, 255)\" style=\"width: 2px; height: 2px;background-color: rgb(0, 144, 255);\"></td><td title=\"Index: [0, 180]&#10;Color: (0, 139, 255)\" style=\"width: 2px; height: 2px;background-color: rgb(0, 139, 255);\"></td><td title=\"Index: [0, 181]&#10;Color: (0, 134, 255)\" style=\"width: 2px; height: 2px;background-color: rgb(0, 134, 255);\"></td><td title=\"Index: [0, 182]&#10;Color: (0, 129, 255)\" style=\"width: 2px; height: 2px;background-color: rgb(0, 129, 255);\"></td><td title=\"Index: [0, 183]&#10;Color: (0, 124, 255)\" style=\"width: 2px; height: 2px;background-color: rgb(0, 124, 255);\"></td><td title=\"Index: [0, 184]&#10;Color: (0, 119, 255)\" style=\"width: 2px; height: 2px;background-color: rgb(0, 119, 255);\"></td><td title=\"Index: [0, 185]&#10;Color: (0, 114, 255)\" style=\"width: 2px; height: 2px;background-color: rgb(0, 114, 255);\"></td><td title=\"Index: [0, 186]&#10;Color: (0, 109, 255)\" style=\"width: 2px; height: 2px;background-color: rgb(0, 109, 255);\"></td><td title=\"Index: [0, 187]&#10;Color: (0, 104, 255)\" style=\"width: 2px; height: 2px;background-color: rgb(0, 104, 255);\"></td><td title=\"Index: [0, 188]&#10;Color: (0, 99, 255)\" style=\"width: 2px; height: 2px;background-color: rgb(0, 99, 255);\"></td><td title=\"Index: [0, 189]&#10;Color: (0, 94, 255)\" style=\"width: 2px; height: 2px;background-color: rgb(0, 94, 255);\"></td><td title=\"Index: [0, 190]&#10;Color: (0, 89, 255)\" style=\"width: 2px; height: 2px;background-color: rgb(0, 89, 255);\"></td><td title=\"Index: [0, 191]&#10;Color: (0, 84, 255)\" style=\"width: 2px; height: 2px;background-color: rgb(0, 84, 255);\"></td><td title=\"Index: [0, 192]&#10;Color: (0, 79, 255)\" style=\"width: 2px; height: 2px;background-color: rgb(0, 79, 255);\"></td><td title=\"Index: [0, 193]&#10;Color: (0, 74, 255)\" style=\"width: 2px; height: 2px;background-color: rgb(0, 74, 255);\"></td><td title=\"Index: [0, 194]&#10;Color: (0, 69, 255)\" style=\"width: 2px; height: 2px;background-color: rgb(0, 69, 255);\"></td><td title=\"Index: [0, 195]&#10;Color: (0, 64, 255)\" style=\"width: 2px; height: 2px;background-color: rgb(0, 64, 255);\"></td><td title=\"Index: [0, 196]&#10;Color: (0, 59, 255)\" style=\"width: 2px; height: 2px;background-color: rgb(0, 59, 255);\"></td><td title=\"Index: [0, 197]&#10;Color: (0, 54, 255)\" style=\"width: 2px; height: 2px;background-color: rgb(0, 54, 255);\"></td><td title=\"Index: [0, 198]&#10;Color: (0, 50, 255)\" style=\"width: 2px; height: 2px;background-color: rgb(0, 50, 255);\"></td><td title=\"Index: [0, 199]&#10;Color: (0, 45, 255)\" style=\"width: 2px; height: 2px;background-color: rgb(0, 45, 255);\"></td><td title=\"Index: [0, 200]&#10;Color: (0, 40, 255)\" style=\"width: 2px; height: 2px;background-color: rgb(0, 40, 255);\"></td><td title=\"Index: [0, 201]&#10;Color: (0, 35, 255)\" style=\"width: 2px; height: 2px;background-color: rgb(0, 35, 255);\"></td><td title=\"Index: [0, 202]&#10;Color: (0, 30, 255)\" style=\"width: 2px; height: 2px;background-color: rgb(0, 30, 255);\"></td><td title=\"Index: [0, 203]&#10;Color: (0, 25, 255)\" style=\"width: 2px; height: 2px;background-color: rgb(0, 25, 255);\"></td><td title=\"Index: [0, 204]&#10;Color: (0, 20, 255)\" style=\"width: 2px; height: 2px;background-color: rgb(0, 20, 255);\"></td><td title=\"Index: [0, 205]&#10;Color: (0, 15, 255)\" style=\"width: 2px; height: 2px;background-color: rgb(0, 15, 255);\"></td><td title=\"Index: [0, 206]&#10;Color: (0, 10, 255)\" style=\"width: 2px; height: 2px;background-color: rgb(0, 10, 255);\"></td><td title=\"Index: [0, 207]&#10;Color: (0, 5, 255)\" style=\"width: 2px; height: 2px;background-color: rgb(0, 5, 255);\"></td><td title=\"Index: [0, 208]&#10;Color: (0, 0, 255)\" style=\"width: 2px; height: 2px;background-color: rgb(0, 0, 255);\"></td></tr></tbody></table>"
      ],
      "text/plain": [
       "<IPython.core.display.HTML object>"
      ]
     },
     "metadata": {},
     "output_type": "display_data"
    },
    {
     "name": "stdout",
     "output_type": "stream",
     "text": [
      "Multiplication modulo 209\n"
     ]
    }
   ],
   "source": [
    "n = 209\n",
    "size_of_blocks = 2\n",
    "colormap = generate_colormap(n)\n",
    "strip = BlockGrid(n,1,(255,255,255),size_of_blocks)\n",
    "strip.lines_on = False\n",
    "for block in strip:\n",
    "    block.rgb = colormap[block.col]\n",
    "strip.show()\n",
    "grid = BlockGrid(n,n,(255,255,255),size_of_blocks)\n",
    "grid.lines_on = False\n",
    "for block in grid:\n",
    "    product = block.row*block.col\n",
    "    remainder = product%n\n",
    "    block.rgb = colormap[remainder]\n",
    "print(\"Multiplication modulo {}\".format(n))\n",
    "grid.show()"
   ]
  },
  {
   "cell_type": "markdown",
   "metadata": {},
   "source": [
    "### Task 5"
   ]
  },
  {
   "cell_type": "markdown",
   "metadata": {},
   "source": [
    "Experiment with addition and multiplication under different moduli.\n",
    "\n",
    "What patterns do you notice? What do they mean?"
   ]
  }
 ],
 "metadata": {
  "kernelspec": {
   "display_name": "Python 3",
   "language": "python",
   "name": "python3"
  },
  "language_info": {
   "codemirror_mode": {
    "name": "ipython",
    "version": 3
   },
   "file_extension": ".py",
   "mimetype": "text/x-python",
   "name": "python",
   "nbconvert_exporter": "python",
   "pygments_lexer": "ipython3",
   "version": "3.5.2"
  }
 },
 "nbformat": 4,
 "nbformat_minor": 2
}
