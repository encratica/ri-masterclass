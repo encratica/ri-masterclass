{
 "cells": [
  {
   "cell_type": "markdown",
   "metadata": {
    "slideshow": {
     "slide_type": "slide"
    }
   },
   "source": [
    "The necessary imports"
   ]
  },
  {
   "cell_type": "code",
   "execution_count": null,
   "metadata": {
    "collapsed": true,
    "hide_input": false,
    "slideshow": {
     "slide_type": "-"
    }
   },
   "outputs": [],
   "source": [
    "from ipythonblocks import BlockGrid\n",
    "from colour import Color"
   ]
  },
  {
   "cell_type": "markdown",
   "metadata": {
    "slideshow": {
     "slide_type": "subslide"
    }
   },
   "source": [
    "A function to generate a list of colours starting with white for zero, black for one, and then a gradient from red for two up to blue for n"
   ]
  },
  {
   "cell_type": "code",
   "execution_count": null,
   "metadata": {
    "slideshow": {
     "slide_type": "-"
    }
   },
   "outputs": [],
   "source": [
    "def generate_colormap(n):\n",
    "    red = Color(\"red\")\n",
    "    blue = Color(\"blue\")\n",
    "    return [(255,255,255),(0,0,0)]+\\\n",
    "        [(c.red*255,c.green*255,c.blue*255) \n",
    "         for c in list(red.range_to(blue,n-2))]"
   ]
  },
  {
   "cell_type": "markdown",
   "metadata": {
    "slideshow": {
     "slide_type": "slide"
    }
   },
   "source": [
    "Create a grid showing addition modulo n"
   ]
  },
  {
   "cell_type": "code",
   "execution_count": null,
   "metadata": {
    "scrolled": false,
    "slideshow": {
     "slide_type": "-"
    }
   },
   "outputs": [],
   "source": [
    "n = 7\n",
    "size_of_blocks = 20\n",
    "colormap = generate_colormap(n)\n",
    "strip = BlockGrid(n,1,(255,255,255),size_of_blocks)\n",
    "strip.lines_on = False\n",
    "for block in strip:\n",
    "    block.rgb = colormap[block.col]\n",
    "strip.show()\n",
    "grid = BlockGrid(n,n,(255,255,255),size_of_blocks)\n",
    "grid.lines_on = False\n",
    "for block in grid:\n",
    "    addition = block.row+block.col\n",
    "    remainder = addition%n\n",
    "    block.rgb = colormap[remainder]\n",
    "print(\"Addition modulo {}\".format(n))\n",
    "grid.show()"
   ]
  },
  {
   "cell_type": "markdown",
   "metadata": {
    "slideshow": {
     "slide_type": "slide"
    }
   },
   "source": [
    "Create a grid showing multiplication modulo n"
   ]
  },
  {
   "cell_type": "code",
   "execution_count": null,
   "metadata": {
    "scrolled": true,
    "slideshow": {
     "slide_type": "-"
    }
   },
   "outputs": [],
   "source": [
    "n = 7\n",
    "size_of_blocks = 20\n",
    "colormap = generate_colormap(n)\n",
    "strip = BlockGrid(n,1,(255,255,255),size_of_blocks)\n",
    "strip.lines_on = False\n",
    "for block in strip:\n",
    "    block.rgb = colormap[block.col]\n",
    "strip.show()\n",
    "grid = BlockGrid(n,n,(255,255,255),size_of_blocks)\n",
    "grid.lines_on = False\n",
    "for block in grid:\n",
    "    product = block.row*block.col\n",
    "    remainder = product%n\n",
    "    block.rgb = colormap[remainder]\n",
    "print(\"Multiplication modulo {}\".format(n))\n",
    "grid.show()"
   ]
  },
  {
   "cell_type": "markdown",
   "metadata": {},
   "source": [
    "### Task 5"
   ]
  },
  {
   "cell_type": "markdown",
   "metadata": {},
   "source": [
    "Experiment with addition and multiplication under different moduli.\n",
    "\n",
    "What patterns do you notice? What do they mean?"
   ]
  }
 ],
 "metadata": {
  "kernelspec": {
   "display_name": "Python 3",
   "language": "python",
   "name": "python3"
  },
  "language_info": {
   "codemirror_mode": {
    "name": "ipython",
    "version": 3
   },
   "file_extension": ".py",
   "mimetype": "text/x-python",
   "name": "python",
   "nbconvert_exporter": "python",
   "pygments_lexer": "ipython3",
   "version": "3.5.2"
  }
 },
 "nbformat": 4,
 "nbformat_minor": 2
}
